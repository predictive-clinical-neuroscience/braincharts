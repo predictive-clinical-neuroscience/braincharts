{
 "cells": [
  {
   "attachments": {},
   "cell_type": "markdown",
   "id": "4b64f505-ad16-437a-94de-2646f35ae55f",
   "metadata": {},
   "source": [
    "## Estimating lifespan normative models\n",
    "\n",
    "This notebook provides a complete walkthrough for an analysis of normative modelling in a large sample as described in the accompanying paper. Note that this script is provided principally for completeness (e.g. to assist in fitting normative models to new datasets). All pre-estimated normative models are already provided.\n",
    "\n",
    "First, if necessary, we install PCNtoolkit (note: this tutorial requires at least version 0.27)"
   ]
  },
  {
   "cell_type": "code",
   "execution_count": null,
   "id": "7cbd85d4",
   "metadata": {},
   "outputs": [],
   "source": [
    "! pip install pcntoolkit==0.35"
   ]
  },
  {
   "cell_type": "markdown",
   "id": "909c3b45-ad46-4e6d-8732-dc5ac68488c6",
   "metadata": {},
   "source": [
    "Then we import the required libraries"
   ]
  },
  {
   "cell_type": "code",
   "execution_count": 1,
   "id": "83c494d3-6ebd-4cde-aff0-8fc9344374dd",
   "metadata": {},
   "outputs": [],
   "source": [
    "import os\n",
    "import numpy as np\n",
    "import pandas as pd\n",
    "import pickle\n",
    "from matplotlib import pyplot as plt\n",
    "import seaborn as sns\n",
    "\n",
    "from pcntoolkit.normative import estimate, predict, evaluate\n",
    "from pcntoolkit.util.utils import compute_MSLL, create_design_matrix\n",
    "from nm_utils import calibration_descriptives, remove_bad_subjects, load_2d"
   ]
  },
  {
   "cell_type": "markdown",
   "id": "9822cc19-48e9-428b-8c5e-e059fd2d23f7",
   "metadata": {},
   "source": [
    "Now, we configure the locations in which the data are stored. You will need to configure this for your specific installation\n",
    "\n",
    "**Notes:** \n",
    "- The data are assumed to be in CSV format and will be loaded as pandas dataframes\n",
    "- Generally the raw data will be in a different location to the analysis\n",
    "- The data can have arbitrary columns but some are required by the script, i.e. 'age', 'sex' and 'site', plus the phenotypes you wish to estimate (see below)"
   ]
  },
  {
   "cell_type": "code",
   "execution_count": 2,
   "id": "7da01c88-7033-498b-a811-79ad58e8c17a",
   "metadata": {},
   "outputs": [],
   "source": [
    "# where the raw data are stored\n",
    "data_dir = '<path-to-your>/data'\n",
    "\n",
    "# where the analysis takes place\n",
    "root_dir = '<path-to-your>/braincharts'\n",
    "out_dir = os.path.join(root_dir,'models','test')\n",
    "\n",
    "# create the output directory if it does not already exist\n",
    "os.makedirs(out_dir, exist_ok=True)"
   ]
  },
  {
   "cell_type": "markdown",
   "id": "01141f19-a960-4823-baad-8604975304c3",
   "metadata": {},
   "source": [
    "Now we load the data. \n",
    "\n",
    "We will load one pandas dataframe for the training set and one dataframe for the test set. We will also filter out low quality scans on the basis of the Freesurfer [Euler Characteristic](https://surfer.nmr.mgh.harvard.edu/fswiki/EulerNumber) (EC). This is a proxy for scan quality and is described in the publications below. Note that this requires the column 'avg_en' in the pandas dataframe, which is simply the average EC of left and right hemisphere.\n",
    "\n",
    "We also configrure a list of site ids\n",
    "\n",
    "**References**\n",
    "- [Kia et al 2021](https://www.biorxiv.org/content/10.1101/2021.05.28.446120v1.abstract)\n",
    "- [Rosen et al 2018](https://www.sciencedirect.com/science/article/abs/pii/S1053811917310832?via%3Dihub)"
   ]
  },
  {
   "cell_type": "code",
   "execution_count": 3,
   "id": "850fee6b-421f-41d9-8fd6-7e1dafbf0e9f",
   "metadata": {},
   "outputs": [
    {
     "name": "stdout",
     "output_type": "stream",
     "text": [
      "362 subjects are removed!\n",
      "356 subjects are removed!\n"
     ]
    }
   ],
   "source": [
    "df_tr = pd.read_csv(os.path.join(data_dir,'lifespan_big_controls_tr_mqc.csv'), index_col=0) \n",
    "df_te = pd.read_csv(os.path.join(data_dir,'lifespan_big_controls_te_mqc.csv'), index_col=0)\n",
    "\n",
    "# remove some bad subjects\n",
    "df_tr, bad_sub = remove_bad_subjects(df_tr, df_tr)\n",
    "df_te, bad_sub = remove_bad_subjects(df_te, df_te)\n",
    "\n",
    "# extract a list of unique site ids from the training set\n",
    "site_ids =  sorted(set(df_tr['site'].to_list()))"
   ]
  },
  {
   "cell_type": "markdown",
   "id": "29f9593a-d3c9-4d08-a877-8794203c0001",
   "metadata": {},
   "source": [
    "### Configure which models to fit\n",
    "\n",
    "Next, we load the image derived phenotypes (IDPs) which we will process in this analysis. This is effectively just a list of columns in your dataframe. Here we estimate normative models for the left hemisphere, right hemisphere and cortical structures."
   ]
  },
  {
   "cell_type": "code",
   "execution_count": 4,
   "id": "7438ef7e-9340-4f13-8d57-816918923705",
   "metadata": {},
   "outputs": [],
   "source": [
    "# load the idps to process\n",
    "with open(os.path.join(root_dir,'docs','phenotypes_ct_lh.txt')) as f:\n",
    "    idp_ids_lh = f.read().splitlines()\n",
    "with open(os.path.join(root_dir,'docs','phenotypes_ct_rh.txt')) as f:\n",
    "    idp_ids_rh = f.read().splitlines()\n",
    "with open(os.path.join(root_dir,'docs','phenotypes_sc.txt')) as f:\n",
    "    idp_ids_sc = f.read().splitlines()\n",
    "\n",
    "# we choose here to process all idps\n",
    "idp_ids = idp_ids_lh + idp_ids_rh + idp_ids_sc\n",
    "\n",
    "# we could also just specify a list of IDPs\n",
    "#idp_ids = ['lh_MeanThickness_thickness', 'rh_MeanThickness_thickness']"
   ]
  },
  {
   "cell_type": "markdown",
   "id": "5d791db6-8fe5-450c-88eb-84a390b8753a",
   "metadata": {},
   "source": [
    "### Configure model parameters\n",
    "\n",
    "Now, we configure some parameters for the regression model we use to fit the normative model. Here we will use a 'warped' Bayesian linear regression model. To model non-Gaussianity, we select a sin arcsinh warp and to model non-linearity, we stick with the default value for the basis expansion (a cubic b-spline basis set with 5 knot points). Since we are sticking with the default value, we do not need to specify any parameters for this, but we do need to specify the limits. We choose to pad the input by a few years either side of the input range. We will also set a couple of options that control the estimation of the model\n",
    "\n",
    "For further details about the likelihood warping approach, see [Fraza et al 2021](https://www.biorxiv.org/content/10.1101/2021.04.05.438429v1)."
   ]
  },
  {
   "cell_type": "code",
   "execution_count": 5,
   "id": "e44e257c-676e-49d8-89ec-657e506c3b74",
   "metadata": {},
   "outputs": [],
   "source": [
    "# which data columns do we wish to use as covariates? \n",
    "cols_cov = ['age','sex']\n",
    "\n",
    "# which warping function to use? We can set this to None in order to fit a vanilla Gaussian noise model\n",
    "warp =  'WarpSinArcsinh'\n",
    "\n",
    "# limits for cubic B-spline basis \n",
    "xmin = -5 \n",
    "xmax = 110\n",
    "\n",
    "# Do we want to force the model to be refit every time? \n",
    "force_refit = True\n",
    "\n",
    "# Absolute Z treshold above which a sample is considered to be an outlier (without fitting any model)\n",
    "outlier_thresh = 7"
   ]
  },
  {
   "cell_type": "markdown",
   "id": "896842d7-8913-4137-9d86-4757c42bcf1b",
   "metadata": {},
   "source": [
    "### Fit the models\n",
    "\n",
    "Now we fit the models. This involves looping over the IDPs we have selected. We will use a module from PCNtoolkit to set up the design matrices, containing the covariates, fixed effects for site and nonlinear basis expansion. "
   ]
  },
  {
   "cell_type": "code",
   "execution_count": null,
   "id": "a4e9b50c-574b-4e2c-a511-cc444db4393e",
   "metadata": {},
   "outputs": [],
   "source": [
    "for idp_num, idp in enumerate(idp_ids): \n",
    "    print('Running IDP', idp_num, idp, ':')\n",
    "   \n",
    "    # set output dir \n",
    "    idp_dir = os.path.join(out_dir, idp)\n",
    "    os.makedirs(os.path.join(idp_dir), exist_ok=True)\n",
    "    os.chdir(idp_dir)\n",
    "    \n",
    "    # extract the response variables for training and test set\n",
    "    y_tr = df_tr[idp].to_numpy() \n",
    "    y_te = df_te[idp].to_numpy()\n",
    "    \n",
    "    # remove gross outliers and implausible values\n",
    "    yz_tr = (y_tr - np.mean(y_tr)) / np.std(y_tr)\n",
    "    yz_te = (y_te - np.mean(y_te)) / np.std(y_te)\n",
    "    nz_tr = np.bitwise_and(np.abs(yz_tr) < outlier_thresh, y_tr > 0)\n",
    "    nz_te = np.bitwise_and(np.abs(yz_te) < outlier_thresh, y_te > 0)\n",
    "    y_tr = y_tr[nz_tr]\n",
    "    y_te = y_te[nz_te]\n",
    "    \n",
    "    # write out the response variables for training and test\n",
    "    resp_file_tr = os.path.join(idp_dir, 'resp_tr.txt')\n",
    "    resp_file_te = os.path.join(idp_dir, 'resp_te.txt') \n",
    "    np.savetxt(resp_file_tr, y_tr)\n",
    "    np.savetxt(resp_file_te, y_te)\n",
    "        \n",
    "    # configure the design matrix\n",
    "    X_tr = create_design_matrix(df_tr[cols_cov].loc[nz_tr], \n",
    "                                site_ids = df_tr['site'].loc[nz_tr],\n",
    "                                basis = 'bspline', \n",
    "                                xmin = xmin, \n",
    "                                xmax = xmax)\n",
    "    X_te = create_design_matrix(df_te[cols_cov].loc[nz_te], \n",
    "                                site_ids = df_te['site'].loc[nz_te], \n",
    "                                all_sites=site_ids,\n",
    "                                basis = 'bspline', \n",
    "                                xmin = xmin, \n",
    "                                xmax = xmax)\n",
    "\n",
    "    # configure and save the covariates\n",
    "    cov_file_tr = os.path.join(idp_dir, 'cov_bspline_tr.txt')\n",
    "    cov_file_te = os.path.join(idp_dir, 'cov_bspline_te.txt')\n",
    "    np.savetxt(cov_file_tr, X_tr)\n",
    "    np.savetxt(cov_file_te, X_te)\n",
    "\n",
    "    if not force_refit and os.path.exists(os.path.join(idp_dir, 'Models', 'NM_0_0_estimate.pkl')):\n",
    "        print('Making predictions using a pre-existing model...')\n",
    "        suffix = 'predict'\n",
    "        \n",
    "        # Make prdictsion with test data\n",
    "        predict(cov_file_te, \n",
    "                alg='blr', \n",
    "                respfile=resp_file_te, \n",
    "                model_path=os.path.join(idp_dir,'Models'),\n",
    "                outputsuffix=suffix)\n",
    "    else:\n",
    "        print('Estimating the normative model...')\n",
    "        estimate(cov_file_tr, resp_file_tr, testresp=resp_file_te, \n",
    "                 testcov=cov_file_te, alg='blr', optimizer = 'l-bfgs-b', \n",
    "                 savemodel=True, warp=warp, warp_reparam=True)\n",
    "        suffix = 'estimate'\n",
    "    "
   ]
  },
  {
   "cell_type": "markdown",
   "id": "925f77cf-c873-4047-91ac-50b9571704fd",
   "metadata": {},
   "source": [
    "### Compute error metrics\n",
    "\n",
    "In this section we compute the following error metrics for all IDPs (all evaluated on the test set):\n",
    "\n",
    "- Negative log likelihood (NLL)\n",
    "- Explained variance (EV)\n",
    "- Mean standardized log loss (MSLL)\n",
    "- Bayesian information Criteria (BIC)\n",
    "- Skew and Kurtosis of the Z-distribution"
   ]
  },
  {
   "cell_type": "code",
   "execution_count": null,
   "id": "2e9d7500-4f46-4ee1-9756-81758ae5b1d1",
   "metadata": {},
   "outputs": [],
   "source": [
    "# initialise dataframe we will use to store quantitative metrics \n",
    "blr_metrics = pd.DataFrame(columns = ['eid', 'NLL', 'EV', 'MSLL', 'BIC','Skew','Kurtosis'])\n",
    "\n",
    "for idp_num, idp in enumerate(idp_ids): \n",
    "    idp_dir = os.path.join(out_dir, idp)\n",
    "    \n",
    "    # load the predictions and true data. We use a custom function that ensures 2d arrays\n",
    "    # equivalent to: y = np.loadtxt(filename); y = y[:, np.newaxis]\n",
    "    yhat_te = load_2d(os.path.join(idp_dir, 'yhat_' + suffix + '.txt'))\n",
    "    s2_te = load_2d(os.path.join(idp_dir, 'ys2_' + suffix + '.txt'))\n",
    "    y_te = load_2d(os.path.join(idp_dir, 'resp_te.txt'))\n",
    "    \n",
    "    with open(os.path.join(idp_dir,'Models', 'NM_0_0_estimate.pkl'), 'rb') as handle:\n",
    "        nm = pickle.load(handle) \n",
    "    \n",
    "    # compute error metrics\n",
    "    if warp is None:\n",
    "        metrics = evaluate(y_te, yhat_te)  \n",
    "        \n",
    "        # compute MSLL manually as a sanity check\n",
    "        y_tr_mean = np.array( [[np.mean(y_tr)]] )\n",
    "        y_tr_var = np.array( [[np.var(y_tr)]] )\n",
    "        MSLL = compute_MSLL(y_te, yhat_te, s2_te, y_tr_mean, y_tr_var)         \n",
    "    else:\n",
    "        warp_param = nm.blr.hyp[1:nm.blr.warp.get_n_params()+1] \n",
    "        W = nm.blr.warp\n",
    "        \n",
    "        # warp predictions\n",
    "        med_te = W.warp_predictions(np.squeeze(yhat_te), np.squeeze(s2_te), warp_param)[0]\n",
    "        med_te = med_te[:, np.newaxis]\n",
    "       \n",
    "        # evaluation metrics\n",
    "        metrics = evaluate(y_te, med_te)\n",
    "        \n",
    "        # compute MSLL manually\n",
    "        y_te_w = W.f(y_te, warp_param)\n",
    "        y_tr_w = W.f(y_tr, warp_param)\n",
    "        y_tr_mean = np.array( [[np.mean(y_tr_w)]] )\n",
    "        y_tr_var = np.array( [[np.var(y_tr_w)]] )\n",
    "        MSLL = compute_MSLL(y_te_w, yhat_te, s2_te, y_tr_mean, y_tr_var)     \n",
    "    \n",
    "    Z = np.loadtxt(os.path.join(idp_dir, 'Z_' + suffix + '.txt'))\n",
    "    [skew, sdskew, kurtosis, sdkurtosis, semean, sesd] = calibration_descriptives(Z)\n",
    "    \n",
    "    BIC = len(nm.blr.hyp) * np.log(y_tr.shape[0]) + 2 * nm.neg_log_lik\n",
    "    \n",
    "    blr_metrics.loc[len(blr_metrics)] = [idp, nm.neg_log_lik, metrics['EXPV'][0], \n",
    "                                         MSLL[0], BIC, skew, kurtosis]\n",
    "    \n",
    "display(blr_metrics)\n",
    "\n",
    "blr_metrics.to_pickle(os.path.join(out_dir,'blr_metrics.pkl'))"
   ]
  },
  {
   "cell_type": "code",
   "execution_count": 9,
   "id": "346a1ce4-86da-46b2-a503-6b4ba04437c6",
   "metadata": {},
   "outputs": [],
   "source": [
    "blr_metrics.to_csv(os.path.join(out_dir,'blr_metrics.csv'))"
   ]
  },
  {
   "cell_type": "code",
   "execution_count": null,
   "id": "3b2249b0-04a0-45d7-a77a-574dff9d1ded",
   "metadata": {},
   "outputs": [],
   "source": []
  }
 ],
 "metadata": {
  "kernelspec": {
   "display_name": "Python 3 (ipykernel)",
   "language": "python",
   "name": "python3"
  },
  "language_info": {
   "codemirror_mode": {
    "name": "ipython",
    "version": 3
   },
   "file_extension": ".py",
   "mimetype": "text/x-python",
   "name": "python",
   "nbconvert_exporter": "python",
   "pygments_lexer": "ipython3",
   "version": "3.12.2"
  },
  "vscode": {
   "interpreter": {
    "hash": "f65f66140ab2d9a57fedc58a3b7e1d01f34d12111107cec87dc46b07c8179a15"
   }
  }
 },
 "nbformat": 4,
 "nbformat_minor": 5
}
